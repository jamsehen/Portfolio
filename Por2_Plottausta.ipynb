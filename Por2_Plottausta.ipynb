{
 "cells": [
  {
   "cell_type": "code",
   "execution_count": 1,
   "metadata": {},
   "outputs": [],
   "source": [
    "import pandas as pd\n",
    "import matplotlib.pyplot as plt\n",
    "%matplotlib inline\n",
    "#liittyy grafiikan tulostamiseen näytölle\n",
    "\n",
    "from matplotlib.ticker import PercentFormatter\n",
    "#prosenttimerkin muotoiluun ja tulostusasuun liittyvä extra\n",
    "\n",
    "myFmt1 = PercentFormatter(xmax = 1, decimals = 0, symbol = ' %')\n",
    "#jos prosentit desimaalilukuja\n",
    "myFmt100 = PercentFormatter(xmax = 100, decimals = 0, symbol = ' %')\n",
    "#jos prosentit on jo valmiiksi kerrottu sadalla"
   ]
  },
  {
   "cell_type": "code",
   "execution_count": 2,
   "metadata": {
    "scrolled": true
   },
   "outputs": [
    {
     "data": {
      "text/html": [
       "<div>\n",
       "<style scoped>\n",
       "    .dataframe tbody tr th:only-of-type {\n",
       "        vertical-align: middle;\n",
       "    }\n",
       "\n",
       "    .dataframe tbody tr th {\n",
       "        vertical-align: top;\n",
       "    }\n",
       "\n",
       "    .dataframe thead th {\n",
       "        text-align: right;\n",
       "    }\n",
       "</style>\n",
       "<table border=\"1\" class=\"dataframe\">\n",
       "  <thead>\n",
       "    <tr style=\"text-align: right;\">\n",
       "      <th></th>\n",
       "      <th>Age</th>\n",
       "      <th>Attrition</th>\n",
       "      <th>BusinessTravel</th>\n",
       "      <th>DailyRate</th>\n",
       "      <th>Department</th>\n",
       "      <th>DistanceFromHome</th>\n",
       "      <th>Education</th>\n",
       "      <th>EducationField</th>\n",
       "      <th>EmployeeCount</th>\n",
       "      <th>EmployeeNumber</th>\n",
       "      <th>...</th>\n",
       "      <th>RelationshipSatisfaction</th>\n",
       "      <th>StandardHours</th>\n",
       "      <th>StockOptionLevel</th>\n",
       "      <th>TotalWorkingYears</th>\n",
       "      <th>TrainingTimesLastYear</th>\n",
       "      <th>WorkLifeBalance</th>\n",
       "      <th>YearsAtCompany</th>\n",
       "      <th>YearsInCurrentRole</th>\n",
       "      <th>YearsSinceLastPromotion</th>\n",
       "      <th>YearsWithCurrManager</th>\n",
       "    </tr>\n",
       "  </thead>\n",
       "  <tbody>\n",
       "    <tr>\n",
       "      <th>0</th>\n",
       "      <td>41</td>\n",
       "      <td>Yes</td>\n",
       "      <td>Travel_Rarely</td>\n",
       "      <td>1102</td>\n",
       "      <td>Sales</td>\n",
       "      <td>1</td>\n",
       "      <td>2</td>\n",
       "      <td>Life Sciences</td>\n",
       "      <td>1</td>\n",
       "      <td>1</td>\n",
       "      <td>...</td>\n",
       "      <td>1</td>\n",
       "      <td>80</td>\n",
       "      <td>0</td>\n",
       "      <td>8</td>\n",
       "      <td>0</td>\n",
       "      <td>1</td>\n",
       "      <td>6</td>\n",
       "      <td>4</td>\n",
       "      <td>0</td>\n",
       "      <td>5</td>\n",
       "    </tr>\n",
       "    <tr>\n",
       "      <th>1</th>\n",
       "      <td>49</td>\n",
       "      <td>No</td>\n",
       "      <td>Travel_Frequently</td>\n",
       "      <td>279</td>\n",
       "      <td>Research &amp; Development</td>\n",
       "      <td>8</td>\n",
       "      <td>1</td>\n",
       "      <td>Life Sciences</td>\n",
       "      <td>1</td>\n",
       "      <td>2</td>\n",
       "      <td>...</td>\n",
       "      <td>4</td>\n",
       "      <td>80</td>\n",
       "      <td>1</td>\n",
       "      <td>10</td>\n",
       "      <td>3</td>\n",
       "      <td>3</td>\n",
       "      <td>10</td>\n",
       "      <td>7</td>\n",
       "      <td>1</td>\n",
       "      <td>7</td>\n",
       "    </tr>\n",
       "    <tr>\n",
       "      <th>2</th>\n",
       "      <td>37</td>\n",
       "      <td>Yes</td>\n",
       "      <td>Travel_Rarely</td>\n",
       "      <td>1373</td>\n",
       "      <td>Research &amp; Development</td>\n",
       "      <td>2</td>\n",
       "      <td>2</td>\n",
       "      <td>Other</td>\n",
       "      <td>1</td>\n",
       "      <td>4</td>\n",
       "      <td>...</td>\n",
       "      <td>2</td>\n",
       "      <td>80</td>\n",
       "      <td>0</td>\n",
       "      <td>7</td>\n",
       "      <td>3</td>\n",
       "      <td>3</td>\n",
       "      <td>0</td>\n",
       "      <td>0</td>\n",
       "      <td>0</td>\n",
       "      <td>0</td>\n",
       "    </tr>\n",
       "    <tr>\n",
       "      <th>3</th>\n",
       "      <td>33</td>\n",
       "      <td>No</td>\n",
       "      <td>Travel_Frequently</td>\n",
       "      <td>1392</td>\n",
       "      <td>Research &amp; Development</td>\n",
       "      <td>3</td>\n",
       "      <td>4</td>\n",
       "      <td>Life Sciences</td>\n",
       "      <td>1</td>\n",
       "      <td>5</td>\n",
       "      <td>...</td>\n",
       "      <td>3</td>\n",
       "      <td>80</td>\n",
       "      <td>0</td>\n",
       "      <td>8</td>\n",
       "      <td>3</td>\n",
       "      <td>3</td>\n",
       "      <td>8</td>\n",
       "      <td>7</td>\n",
       "      <td>3</td>\n",
       "      <td>0</td>\n",
       "    </tr>\n",
       "    <tr>\n",
       "      <th>4</th>\n",
       "      <td>27</td>\n",
       "      <td>No</td>\n",
       "      <td>Travel_Rarely</td>\n",
       "      <td>591</td>\n",
       "      <td>Research &amp; Development</td>\n",
       "      <td>2</td>\n",
       "      <td>1</td>\n",
       "      <td>Medical</td>\n",
       "      <td>1</td>\n",
       "      <td>7</td>\n",
       "      <td>...</td>\n",
       "      <td>4</td>\n",
       "      <td>80</td>\n",
       "      <td>1</td>\n",
       "      <td>6</td>\n",
       "      <td>3</td>\n",
       "      <td>3</td>\n",
       "      <td>2</td>\n",
       "      <td>2</td>\n",
       "      <td>2</td>\n",
       "      <td>2</td>\n",
       "    </tr>\n",
       "  </tbody>\n",
       "</table>\n",
       "<p>5 rows × 35 columns</p>\n",
       "</div>"
      ],
      "text/plain": [
       "   Age Attrition     BusinessTravel  DailyRate              Department  \\\n",
       "0   41       Yes      Travel_Rarely       1102                   Sales   \n",
       "1   49        No  Travel_Frequently        279  Research & Development   \n",
       "2   37       Yes      Travel_Rarely       1373  Research & Development   \n",
       "3   33        No  Travel_Frequently       1392  Research & Development   \n",
       "4   27        No      Travel_Rarely        591  Research & Development   \n",
       "\n",
       "   DistanceFromHome  Education EducationField  EmployeeCount  EmployeeNumber  \\\n",
       "0                 1          2  Life Sciences              1               1   \n",
       "1                 8          1  Life Sciences              1               2   \n",
       "2                 2          2          Other              1               4   \n",
       "3                 3          4  Life Sciences              1               5   \n",
       "4                 2          1        Medical              1               7   \n",
       "\n",
       "           ...           RelationshipSatisfaction StandardHours  \\\n",
       "0          ...                                  1            80   \n",
       "1          ...                                  4            80   \n",
       "2          ...                                  2            80   \n",
       "3          ...                                  3            80   \n",
       "4          ...                                  4            80   \n",
       "\n",
       "   StockOptionLevel  TotalWorkingYears  TrainingTimesLastYear WorkLifeBalance  \\\n",
       "0                 0                  8                      0               1   \n",
       "1                 1                 10                      3               3   \n",
       "2                 0                  7                      3               3   \n",
       "3                 0                  8                      3               3   \n",
       "4                 1                  6                      3               3   \n",
       "\n",
       "   YearsAtCompany YearsInCurrentRole  YearsSinceLastPromotion  \\\n",
       "0               6                  4                        0   \n",
       "1              10                  7                        1   \n",
       "2               0                  0                        0   \n",
       "3               8                  7                        3   \n",
       "4               2                  2                        2   \n",
       "\n",
       "   YearsWithCurrManager  \n",
       "0                     5  \n",
       "1                     7  \n",
       "2                     0  \n",
       "3                     0  \n",
       "4                     2  \n",
       "\n",
       "[5 rows x 35 columns]"
      ]
     },
     "execution_count": 2,
     "metadata": {},
     "output_type": "execute_result"
    }
   ],
   "source": [
    "df = pd.read_csv('http://taanila.fi/employee.csv')\n",
    "df.head()"
   ]
  },
  {
   "cell_type": "code",
   "execution_count": 3,
   "metadata": {},
   "outputs": [],
   "source": [
    "Education = ['Peruskoulu', 'Toinen aste', 'Korkeakoulu', 'Ylempi korkeakoulu', 'Yliopisto']\n",
    "EnvironmentSatisfaction = ['Matala', 'Keskitaso', 'Korkea', 'Erittäin korkea']\n",
    "JobInvolvement = ['Matala', 'Keskitaso', 'Korkea', 'Erittäin korkea']\n",
    "JobSatisfaction = ['Matala', 'Keskitaso', 'Korkea', 'Erittäin korkea']\n",
    "PerformanceRating = ['Matala', 'Hyvä', 'Erittäin hyvä', 'Erinomainen']\n",
    "RelationshipSatisfaction = ['Matala', 'Hyvä', 'Erittäin hyvä', 'Erinomainen']\n",
    "WorkLifeBalance = ['Huono', 'Hyvä', 'Parempi', 'Paras']\n",
    "Gender = ['Nainen', 'Mies']"
   ]
  },
  {
   "cell_type": "code",
   "execution_count": 4,
   "metadata": {},
   "outputs": [],
   "source": [
    "# Sarakkeen uudelleen nimeäminen liittyy soluun 12\n",
    "df.rename(columns = {'EnvironmentSatisfaction': 'Työympäristötyyt.'}, inplace = True)"
   ]
  },
  {
   "cell_type": "code",
   "execution_count": 5,
   "metadata": {},
   "outputs": [
    {
     "data": {
      "text/html": [
       "<style  type=\"text/css\" >\n",
       "</style>  \n",
       "<table id=\"T_104677a8_dea7_11e9_8452_98541bbec2ff\" > \n",
       "<thead>    <tr> \n",
       "        <th class=\"index_name level0\" >Koulutusaste</th> \n",
       "        <th class=\"col_heading level0 col0\" >lkm</th> \n",
       "        <th class=\"col_heading level0 col1\" >%</th> \n",
       "    </tr></thead> \n",
       "<tbody>    <tr> \n",
       "        <th id=\"T_104677a8_dea7_11e9_8452_98541bbec2fflevel0_row0\" class=\"row_heading level0 row0\" >Peruskoulu</th> \n",
       "        <td id=\"T_104677a8_dea7_11e9_8452_98541bbec2ffrow0_col0\" class=\"data row0 col0\" >170</td> \n",
       "        <td id=\"T_104677a8_dea7_11e9_8452_98541bbec2ffrow0_col1\" class=\"data row0 col1\" >11.6 %</td> \n",
       "    </tr>    <tr> \n",
       "        <th id=\"T_104677a8_dea7_11e9_8452_98541bbec2fflevel0_row1\" class=\"row_heading level0 row1\" >Toinen aste</th> \n",
       "        <td id=\"T_104677a8_dea7_11e9_8452_98541bbec2ffrow1_col0\" class=\"data row1 col0\" >282</td> \n",
       "        <td id=\"T_104677a8_dea7_11e9_8452_98541bbec2ffrow1_col1\" class=\"data row1 col1\" >19.2 %</td> \n",
       "    </tr>    <tr> \n",
       "        <th id=\"T_104677a8_dea7_11e9_8452_98541bbec2fflevel0_row2\" class=\"row_heading level0 row2\" >Korkeakoulu</th> \n",
       "        <td id=\"T_104677a8_dea7_11e9_8452_98541bbec2ffrow2_col0\" class=\"data row2 col0\" >572</td> \n",
       "        <td id=\"T_104677a8_dea7_11e9_8452_98541bbec2ffrow2_col1\" class=\"data row2 col1\" >38.9 %</td> \n",
       "    </tr>    <tr> \n",
       "        <th id=\"T_104677a8_dea7_11e9_8452_98541bbec2fflevel0_row3\" class=\"row_heading level0 row3\" >Ylempi korkeakoulu</th> \n",
       "        <td id=\"T_104677a8_dea7_11e9_8452_98541bbec2ffrow3_col0\" class=\"data row3 col0\" >398</td> \n",
       "        <td id=\"T_104677a8_dea7_11e9_8452_98541bbec2ffrow3_col1\" class=\"data row3 col1\" >27.1 %</td> \n",
       "    </tr>    <tr> \n",
       "        <th id=\"T_104677a8_dea7_11e9_8452_98541bbec2fflevel0_row4\" class=\"row_heading level0 row4\" >Yliopisto</th> \n",
       "        <td id=\"T_104677a8_dea7_11e9_8452_98541bbec2ffrow4_col0\" class=\"data row4 col0\" >48</td> \n",
       "        <td id=\"T_104677a8_dea7_11e9_8452_98541bbec2ffrow4_col1\" class=\"data row4 col1\" >3.3 %</td> \n",
       "    </tr></tbody> \n",
       "</table> "
      ],
      "text/plain": [
       "<pandas.io.formats.style.Styler at 0x19b9f6ee6d8>"
      ]
     },
     "execution_count": 5,
     "metadata": {},
     "output_type": "execute_result"
    }
   ],
   "source": [
    "# Tarkastellaan koulutusastetta\n",
    "df1 = pd.crosstab(df['Education'], 'lkm')\n",
    "df1.index = Education\n",
    "df1.columns.name = 'Koulutusaste'\n",
    "\n",
    "# Lisätään %-sarake ja muotoillaan yhden desimaalin tarkkuuteen\n",
    "df1['%'] = df1/df1.sum()*100\n",
    "df1.style.format({'%': '{:.1f} %'})"
   ]
  },
  {
   "cell_type": "code",
   "execution_count": 6,
   "metadata": {},
   "outputs": [
    {
     "data": {
      "image/png": "[encoded data removed]",
      "text/plain": [
       "<Figure size 432x288 with 1 Axes>"
      ]
     },
     "metadata": {
      "needs_background": "light"
     },
     "output_type": "display_data"
    }
   ],
   "source": [
    "# Kaavio koulutusasteesta\n",
    "ax1 = df1['%'].plot.barh(color = '#D565DC')\n",
    "ax1.set_xlabel('Prosenttia')\n",
    "\n",
    "# käännetään kaavion y-akselin selite samoinpäin kuin taulukossa\n",
    "plt.gca().invert_yaxis()\n",
    "\n",
    "# Lisätään n-luku\n",
    "n = df1['lkm'].sum()\n",
    "ax1.set_xlabel('Prosenttia (n=' + str(n) + ')')\n",
    "ax1.xaxis.set_major_formatter(myFmt100)"
   ]
  },
  {
   "cell_type": "code",
   "execution_count": 7,
   "metadata": {},
   "outputs": [
    {
     "data": {
      "text/html": [
       "<div>\n",
       "<style scoped>\n",
       "    .dataframe tbody tr th:only-of-type {\n",
       "        vertical-align: middle;\n",
       "    }\n",
       "\n",
       "    .dataframe tbody tr th {\n",
       "        vertical-align: top;\n",
       "    }\n",
       "\n",
       "    .dataframe thead th {\n",
       "        text-align: right;\n",
       "    }\n",
       "</style>\n",
       "<table border=\"1\" class=\"dataframe\">\n",
       "  <thead>\n",
       "    <tr style=\"text-align: right;\">\n",
       "      <th>Koulutusaste</th>\n",
       "      <th>Nainen</th>\n",
       "      <th>Mies</th>\n",
       "    </tr>\n",
       "  </thead>\n",
       "  <tbody>\n",
       "    <tr>\n",
       "      <th>Peruskoulu</th>\n",
       "      <td>60</td>\n",
       "      <td>110</td>\n",
       "    </tr>\n",
       "    <tr>\n",
       "      <th>Toinen aste</th>\n",
       "      <td>117</td>\n",
       "      <td>165</td>\n",
       "    </tr>\n",
       "    <tr>\n",
       "      <th>Korkeakoulu</th>\n",
       "      <td>235</td>\n",
       "      <td>337</td>\n",
       "    </tr>\n",
       "    <tr>\n",
       "      <th>Ylempi korkeakoulu</th>\n",
       "      <td>154</td>\n",
       "      <td>244</td>\n",
       "    </tr>\n",
       "    <tr>\n",
       "      <th>Yliopisto</th>\n",
       "      <td>22</td>\n",
       "      <td>26</td>\n",
       "    </tr>\n",
       "  </tbody>\n",
       "</table>\n",
       "</div>"
      ],
      "text/plain": [
       "Koulutusaste        Nainen  Mies\n",
       "Peruskoulu              60   110\n",
       "Toinen aste            117   165\n",
       "Korkeakoulu            235   337\n",
       "Ylempi korkeakoulu     154   244\n",
       "Yliopisto               22    26"
      ]
     },
     "execution_count": 7,
     "metadata": {},
     "output_type": "execute_result"
    }
   ],
   "source": [
    "# Tarkastellaan koulutusastetta sukupuolen mukaan\n",
    "df2 = pd.crosstab(df['Education'], df['Gender'])\n",
    "df2.index = Education\n",
    "df2.columns = Gender\n",
    "df2.columns.name = 'Koulutusaste'\n",
    "df2"
   ]
  },
  {
   "cell_type": "code",
   "execution_count": 8,
   "metadata": {},
   "outputs": [
    {
     "data": {
      "text/html": [
       "<style  type=\"text/css\" >\n",
       "</style>  \n",
       "<table id=\"T_1066f786_dea7_11e9_8500_98541bbec2ff\" > \n",
       "<thead>    <tr> \n",
       "        <th class=\"index_name level0\" >Koulutusaste</th> \n",
       "        <th class=\"col_heading level0 col0\" >Nainen (n = 588)</th> \n",
       "        <th class=\"col_heading level0 col1\" >Mies (n = 882)</th> \n",
       "    </tr></thead> \n",
       "<tbody>    <tr> \n",
       "        <th id=\"T_1066f786_dea7_11e9_8500_98541bbec2fflevel0_row0\" class=\"row_heading level0 row0\" >Peruskoulu</th> \n",
       "        <td id=\"T_1066f786_dea7_11e9_8500_98541bbec2ffrow0_col0\" class=\"data row0 col0\" >10.2 %</td> \n",
       "        <td id=\"T_1066f786_dea7_11e9_8500_98541bbec2ffrow0_col1\" class=\"data row0 col1\" >12.5 %</td> \n",
       "    </tr>    <tr> \n",
       "        <th id=\"T_1066f786_dea7_11e9_8500_98541bbec2fflevel0_row1\" class=\"row_heading level0 row1\" >Toinen aste</th> \n",
       "        <td id=\"T_1066f786_dea7_11e9_8500_98541bbec2ffrow1_col0\" class=\"data row1 col0\" >19.9 %</td> \n",
       "        <td id=\"T_1066f786_dea7_11e9_8500_98541bbec2ffrow1_col1\" class=\"data row1 col1\" >18.7 %</td> \n",
       "    </tr>    <tr> \n",
       "        <th id=\"T_1066f786_dea7_11e9_8500_98541bbec2fflevel0_row2\" class=\"row_heading level0 row2\" >Korkeakoulu</th> \n",
       "        <td id=\"T_1066f786_dea7_11e9_8500_98541bbec2ffrow2_col0\" class=\"data row2 col0\" >40.0 %</td> \n",
       "        <td id=\"T_1066f786_dea7_11e9_8500_98541bbec2ffrow2_col1\" class=\"data row2 col1\" >38.2 %</td> \n",
       "    </tr>    <tr> \n",
       "        <th id=\"T_1066f786_dea7_11e9_8500_98541bbec2fflevel0_row3\" class=\"row_heading level0 row3\" >Ylempi korkeakoulu</th> \n",
       "        <td id=\"T_1066f786_dea7_11e9_8500_98541bbec2ffrow3_col0\" class=\"data row3 col0\" >26.2 %</td> \n",
       "        <td id=\"T_1066f786_dea7_11e9_8500_98541bbec2ffrow3_col1\" class=\"data row3 col1\" >27.7 %</td> \n",
       "    </tr>    <tr> \n",
       "        <th id=\"T_1066f786_dea7_11e9_8500_98541bbec2fflevel0_row4\" class=\"row_heading level0 row4\" >Yliopisto</th> \n",
       "        <td id=\"T_1066f786_dea7_11e9_8500_98541bbec2ffrow4_col0\" class=\"data row4 col0\" >3.7 %</td> \n",
       "        <td id=\"T_1066f786_dea7_11e9_8500_98541bbec2ffrow4_col1\" class=\"data row4 col1\" >2.9 %</td> \n",
       "    </tr></tbody> \n",
       "</table> "
      ],
      "text/plain": [
       "<pandas.io.formats.style.Styler at 0x19b9feed588>"
      ]
     },
     "execution_count": 8,
     "metadata": {},
     "output_type": "execute_result"
    }
   ],
   "source": [
    "# Muutetaan lukumäärät prosenteiksi, lisätään n-luku sekä muotoillaan %-luku yhden desimaalin tarkkuuteen\n",
    "df3 = pd.crosstab(df['Education'], df['Gender'], normalize = 'columns')\n",
    "df3.index = Education\n",
    "Female = df2['Nainen'].sum()\n",
    "Male = df2['Mies'].sum()\n",
    "df3.columns = ['Nainen (n = ' + str(Female) +')', 'Mies (n = ' + str(Male) +')']\n",
    "df3.columns.name = 'Koulutusaste'\n",
    "(df3*100).style.format('{:.1f} %')"
   ]
  },
  {
   "cell_type": "code",
   "execution_count": 9,
   "metadata": {},
   "outputs": [
    {
     "data": {
      "image/png": "[encoded data removed]",
      "text/plain": [
       "<Figure size 432x288 with 1 Axes>"
      ]
     },
     "metadata": {
      "needs_background": "light"
     },
     "output_type": "display_data"
    }
   ],
   "source": [
    "# Kaavio sukupuoli jakaumasta koulutusasteessa sekä y-akselin selitteen kääntö\n",
    "ax3 = df3.plot.barh(legend = 'reverse', color = ['#9B59B6', '#2980B9'])\n",
    "ax3.set_xlabel('Prosenttia sukupuolesta')\n",
    "plt.gca().invert_yaxis()\n",
    "ax3.xaxis.set_major_formatter(myFmt1)"
   ]
  },
  {
   "cell_type": "code",
   "execution_count": 10,
   "metadata": {},
   "outputs": [
    {
     "data": {
      "text/html": [
       "<style  type=\"text/css\" >\n",
       "</style>  \n",
       "<table id=\"T_1087d32c_dea7_11e9_b864_98541bbec2ff\" > \n",
       "<thead>    <tr> \n",
       "        <th class=\"index_name level0\" >Tasapaino</th> \n",
       "        <th class=\"col_heading level0 col0\" >Nainen (n = 588)</th> \n",
       "        <th class=\"col_heading level0 col1\" >Mies (n = 882)</th> \n",
       "    </tr></thead> \n",
       "<tbody>    <tr> \n",
       "        <th id=\"T_1087d32c_dea7_11e9_b864_98541bbec2fflevel0_row0\" class=\"row_heading level0 row0\" >Huono</th> \n",
       "        <td id=\"T_1087d32c_dea7_11e9_b864_98541bbec2ffrow0_col0\" class=\"data row0 col0\" >5.1 %</td> \n",
       "        <td id=\"T_1087d32c_dea7_11e9_b864_98541bbec2ffrow0_col1\" class=\"data row0 col1\" >5.7 %</td> \n",
       "    </tr>    <tr> \n",
       "        <th id=\"T_1087d32c_dea7_11e9_b864_98541bbec2fflevel0_row1\" class=\"row_heading level0 row1\" >Hyvä</th> \n",
       "        <td id=\"T_1087d32c_dea7_11e9_b864_98541bbec2ffrow1_col0\" class=\"data row1 col0\" >23.1 %</td> \n",
       "        <td id=\"T_1087d32c_dea7_11e9_b864_98541bbec2ffrow1_col1\" class=\"data row1 col1\" >23.6 %</td> \n",
       "    </tr>    <tr> \n",
       "        <th id=\"T_1087d32c_dea7_11e9_b864_98541bbec2fflevel0_row2\" class=\"row_heading level0 row2\" >Parempi</th> \n",
       "        <td id=\"T_1087d32c_dea7_11e9_b864_98541bbec2ffrow2_col0\" class=\"data row2 col0\" >62.1 %</td> \n",
       "        <td id=\"T_1087d32c_dea7_11e9_b864_98541bbec2ffrow2_col1\" class=\"data row2 col1\" >59.9 %</td> \n",
       "    </tr>    <tr> \n",
       "        <th id=\"T_1087d32c_dea7_11e9_b864_98541bbec2fflevel0_row3\" class=\"row_heading level0 row3\" >Paras</th> \n",
       "        <td id=\"T_1087d32c_dea7_11e9_b864_98541bbec2ffrow3_col0\" class=\"data row3 col0\" >9.7 %</td> \n",
       "        <td id=\"T_1087d32c_dea7_11e9_b864_98541bbec2ffrow3_col1\" class=\"data row3 col1\" >10.9 %</td> \n",
       "    </tr></tbody> \n",
       "</table> "
      ],
      "text/plain": [
       "<pandas.io.formats.style.Styler at 0x19b9ff7fa90>"
      ]
     },
     "execution_count": 10,
     "metadata": {},
     "output_type": "execute_result"
    }
   ],
   "source": [
    "# Tarkastellaan mielipidettä työn ja vapaa-ajan tasapainosta sukupuolittain\n",
    "df4 = pd.crosstab(df['WorkLifeBalance'], df['Gender'], normalize = 'columns')\n",
    "df4.index = WorkLifeBalance\n",
    "Female = df2['Nainen'].sum()\n",
    "Male = df2['Mies'].sum()\n",
    "df4.columns = ['Nainen (n = ' + str(Female) +')', 'Mies (n = ' + str(Male) +')']\n",
    "df4.columns.name = 'Tasapaino'\n",
    "(df4*100).style.format('{:.1f} %')"
   ]
  },
  {
   "cell_type": "code",
   "execution_count": 11,
   "metadata": {},
   "outputs": [
    {
     "data": {
      "image/png": "[encoded data removed]",
      "text/plain": [
       "<Figure size 432x288 with 1 Axes>"
      ]
     },
     "metadata": {
      "needs_background": "light"
     },
     "output_type": "display_data"
    }
   ],
   "source": [
    "# Kaavio tasapainosta työn ja vapaa-ajan välillä sekä y-akselin selitteen kääntö\n",
    "ax4 = df4.plot.barh(legend = 'reverse', color = ['#9B59B6', '#2980B9'], title = 'Tasapaino työn ja vapaa-ajan välillä')\n",
    "ax4.set_xlabel('Prosenttia sukupuolesta')\n",
    "plt.gca().invert_yaxis()\n",
    "ax4.xaxis.set_major_formatter(myFmt1)"
   ]
  },
  {
   "cell_type": "code",
   "execution_count": 12,
   "metadata": {},
   "outputs": [
    {
     "data": {
      "text/html": [
       "<style  type=\"text/css\" >\n",
       "</style>  \n",
       "<table id=\"T_10a9d36c_dea7_11e9_aeb5_98541bbec2ff\" > \n",
       "<thead>    <tr> \n",
       "        <th class=\"index_name level0\" >Työtyytyväisyysaste</th> \n",
       "        <th class=\"col_heading level0 col0\" >Työympäristötyyt.</th> \n",
       "        <th class=\"col_heading level0 col1\" >Sitoutuminen</th> \n",
       "        <th class=\"col_heading level0 col2\" >Työtyyt.</th> \n",
       "        <th class=\"col_heading level0 col3\" >Suorituskyky</th> \n",
       "        <th class=\"col_heading level0 col4\" >Työsuhdetyyt.</th> \n",
       "    </tr></thead> \n",
       "<tbody>    <tr> \n",
       "        <th id=\"T_10a9d36c_dea7_11e9_aeb5_98541bbec2fflevel0_row0\" class=\"row_heading level0 row0\" >Matala</th> \n",
       "        <td id=\"T_10a9d36c_dea7_11e9_aeb5_98541bbec2ffrow0_col0\" class=\"data row0 col0\" >19.3 %</td> \n",
       "        <td id=\"T_10a9d36c_dea7_11e9_aeb5_98541bbec2ffrow0_col1\" class=\"data row0 col1\" >5.6 %</td> \n",
       "        <td id=\"T_10a9d36c_dea7_11e9_aeb5_98541bbec2ffrow0_col2\" class=\"data row0 col2\" >19.7 %</td> \n",
       "        <td id=\"T_10a9d36c_dea7_11e9_aeb5_98541bbec2ffrow0_col3\" class=\"data row0 col3\" >nan %</td> \n",
       "        <td id=\"T_10a9d36c_dea7_11e9_aeb5_98541bbec2ffrow0_col4\" class=\"data row0 col4\" >18.8 %</td> \n",
       "    </tr>    <tr> \n",
       "        <th id=\"T_10a9d36c_dea7_11e9_aeb5_98541bbec2fflevel0_row1\" class=\"row_heading level0 row1\" >Keskitaso</th> \n",
       "        <td id=\"T_10a9d36c_dea7_11e9_aeb5_98541bbec2ffrow1_col0\" class=\"data row1 col0\" >19.5 %</td> \n",
       "        <td id=\"T_10a9d36c_dea7_11e9_aeb5_98541bbec2ffrow1_col1\" class=\"data row1 col1\" >25.5 %</td> \n",
       "        <td id=\"T_10a9d36c_dea7_11e9_aeb5_98541bbec2ffrow1_col2\" class=\"data row1 col2\" >19.0 %</td> \n",
       "        <td id=\"T_10a9d36c_dea7_11e9_aeb5_98541bbec2ffrow1_col3\" class=\"data row1 col3\" >nan %</td> \n",
       "        <td id=\"T_10a9d36c_dea7_11e9_aeb5_98541bbec2ffrow1_col4\" class=\"data row1 col4\" >20.6 %</td> \n",
       "    </tr>    <tr> \n",
       "        <th id=\"T_10a9d36c_dea7_11e9_aeb5_98541bbec2fflevel0_row2\" class=\"row_heading level0 row2\" >Korkea</th> \n",
       "        <td id=\"T_10a9d36c_dea7_11e9_aeb5_98541bbec2ffrow2_col0\" class=\"data row2 col0\" >30.8 %</td> \n",
       "        <td id=\"T_10a9d36c_dea7_11e9_aeb5_98541bbec2ffrow2_col1\" class=\"data row2 col1\" >59.0 %</td> \n",
       "        <td id=\"T_10a9d36c_dea7_11e9_aeb5_98541bbec2ffrow2_col2\" class=\"data row2 col2\" >30.1 %</td> \n",
       "        <td id=\"T_10a9d36c_dea7_11e9_aeb5_98541bbec2ffrow2_col3\" class=\"data row2 col3\" >84.6 %</td> \n",
       "        <td id=\"T_10a9d36c_dea7_11e9_aeb5_98541bbec2ffrow2_col4\" class=\"data row2 col4\" >31.2 %</td> \n",
       "    </tr>    <tr> \n",
       "        <th id=\"T_10a9d36c_dea7_11e9_aeb5_98541bbec2fflevel0_row3\" class=\"row_heading level0 row3\" >Erittäin korkea</th> \n",
       "        <td id=\"T_10a9d36c_dea7_11e9_aeb5_98541bbec2ffrow3_col0\" class=\"data row3 col0\" >30.3 %</td> \n",
       "        <td id=\"T_10a9d36c_dea7_11e9_aeb5_98541bbec2ffrow3_col1\" class=\"data row3 col1\" >9.8 %</td> \n",
       "        <td id=\"T_10a9d36c_dea7_11e9_aeb5_98541bbec2ffrow3_col2\" class=\"data row3 col2\" >31.2 %</td> \n",
       "        <td id=\"T_10a9d36c_dea7_11e9_aeb5_98541bbec2ffrow3_col3\" class=\"data row3 col3\" >15.4 %</td> \n",
       "        <td id=\"T_10a9d36c_dea7_11e9_aeb5_98541bbec2ffrow3_col4\" class=\"data row3 col4\" >29.4 %</td> \n",
       "    </tr></tbody> \n",
       "</table> "
      ],
      "text/plain": [
       "<pandas.io.formats.style.Styler at 0x19b9ffe2908>"
      ]
     },
     "execution_count": 12,
     "metadata": {},
     "output_type": "execute_result"
    }
   ],
   "source": [
    "# Tarkastellaan työtyytyväisyyttä\n",
    "df5 = df['Työympäristötyyt.'].value_counts(sort = False, normalize = True).to_frame()\n",
    "df5['Sitoutuminen'] = df['JobInvolvement'].value_counts(sort = False, normalize = True)\n",
    "df5['Työtyyt.'] = df['JobSatisfaction'].value_counts(sort = False, normalize = True)\n",
    "df5['Suorituskyky'] = df['PerformanceRating'].value_counts(sort = False, normalize = True)\n",
    "df5['Työsuhdetyyt.'] = df['RelationshipSatisfaction'].value_counts(sort = False, normalize = True)\n",
    "df5.index = JobInvolvement\n",
    "df5.columns.name = 'Työtyytyväisyysaste'\n",
    "(df5*100).style.format('{:.1f} %')"
   ]
  },
  {
   "cell_type": "code",
   "execution_count": 13,
   "metadata": {},
   "outputs": [
    {
     "data": {
      "text/plain": [
       "<matplotlib.legend.Legend at 0x19b9ffa7358>"
      ]
     },
     "execution_count": 13,
     "metadata": {},
     "output_type": "execute_result"
    },
    {
     "data": {
      "image/png": "[encoded data removed]",
      "text/plain": [
       "<Figure size 432x288 with 1 Axes>"
      ]
     },
     "metadata": {
      "needs_background": "light"
     },
     "output_type": "display_data"
    }
   ],
   "source": [
    "# Pinottu kaavio työtyytyväisyysasteesta, kaavioon otsikko, y-akselin selitteen kääntö, viivoitus kaavioon sekä selitteen paikka\n",
    "ax5 = df5.T.plot.barh(stacked = True, color = ['#AF7AC5','#5499C7','#48C9B0','#45B39D'], title = 'Työtyytyväisyysaste')\n",
    "ax5.xaxis.set_major_formatter(myFmt1)\n",
    "ax5.set_xlabel('Prosenttia')\n",
    "plt.gca().invert_yaxis()\n",
    "ax5.grid(axis = 'x')\n",
    "ax5.set_axisbelow(True)\n",
    "ax5.legend(loc = (-0.05,-0.29), ncol = 4)"
   ]
  },
  {
   "cell_type": "code",
   "execution_count": null,
   "metadata": {},
   "outputs": [],
   "source": []
  }
 ],
 "metadata": {
  "kernelspec": {
   "display_name": "Python 3",
   "language": "python",
   "name": "python3"
  },
  "language_info": {
   "codemirror_mode": {
    "name": "ipython",
    "version": 3
   },
   "file_extension": ".py",
   "mimetype": "text/x-python",
   "name": "python",
   "nbconvert_exporter": "python",
   "pygments_lexer": "ipython3",
   "version": "3.7.1"
  }
 },
 "nbformat": 4,
 "nbformat_minor": 2
}
